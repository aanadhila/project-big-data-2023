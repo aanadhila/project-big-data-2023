{
  "nbformat": 4,
  "nbformat_minor": 0,
  "metadata": {
    "colab": {
      "provenance": []
    },
    "kernelspec": {
      "name": "python3",
      "display_name": "Python 3"
    },
    "language_info": {
      "name": "python"
    }
  },
  "cells": [
    {
      "cell_type": "code",
      "source": [
        "from google.colab import drive\n",
        "drive.mount('/content/drive')"
      ],
      "metadata": {
        "id": "Gl5mEYyVu0Yy",
        "colab": {
          "base_uri": "https://localhost:8080/"
        },
        "outputId": "8970c206-5144-4ee1-c063-9a110e063db5"
      },
      "execution_count": null,
      "outputs": [
        {
          "output_type": "stream",
          "name": "stdout",
          "text": [
            "Mounted at /content/drive\n"
          ]
        }
      ]
    },
    {
      "cell_type": "code",
      "execution_count": null,
      "metadata": {
        "colab": {
          "base_uri": "https://localhost:8080/"
        },
        "id": "JHM6ES5xq7Bu",
        "outputId": "67b8d564-3880-4584-a118-5f6ccf478fcf"
      },
      "outputs": [
        {
          "output_type": "stream",
          "name": "stdout",
          "text": [
            "Looking in indexes: https://pypi.org/simple, https://us-python.pkg.dev/colab-wheels/public/simple/\n",
            "Collecting pyspark\n",
            "  Downloading pyspark-3.4.0.tar.gz (310.8 MB)\n",
            "\u001b[2K     \u001b[90m━━━━━━━━━━━━━━━━━━━━━━━━━━━━━━━━━━━━━━━\u001b[0m \u001b[32m310.8/310.8 MB\u001b[0m \u001b[31m4.6 MB/s\u001b[0m eta \u001b[36m0:00:00\u001b[0m\n",
            "\u001b[?25h  Preparing metadata (setup.py) ... \u001b[?25l\u001b[?25hdone\n",
            "Requirement already satisfied: py4j==0.10.9.7 in /usr/local/lib/python3.10/dist-packages (from pyspark) (0.10.9.7)\n",
            "Building wheels for collected packages: pyspark\n",
            "  Building wheel for pyspark (setup.py) ... \u001b[?25l\u001b[?25hdone\n",
            "  Created wheel for pyspark: filename=pyspark-3.4.0-py2.py3-none-any.whl size=311317130 sha256=2f9f26c961210d5e3b911ca15d7198dd1b2df8229c11755432c196bc0fa961be\n",
            "  Stored in directory: /root/.cache/pip/wheels/7b/1b/4b/3363a1d04368e7ff0d408e57ff57966fcdf00583774e761327\n",
            "Successfully built pyspark\n",
            "Installing collected packages: pyspark\n",
            "Successfully installed pyspark-3.4.0\n"
          ]
        }
      ],
      "source": [
        "!pip install pyspark"
      ]
    },
    {
      "cell_type": "markdown",
      "source": [
        "1. MEMBUAT SPARK SESSION"
      ],
      "metadata": {
        "id": "Qt2BMwoQthK2"
      }
    },
    {
      "cell_type": "code",
      "source": [
        "import pyspark\n",
        "import pandas as pd\n",
        "\n",
        "from pyspark.sql import SparkSession\n",
        "\n",
        "spark = SparkSession.builder.appName(\"Big Data UAS\").config(\"spark.memory.offHeap.enabled\",\"true\").config(\"spark.memory.offHeap.size\",\"10g\").getOrCreate()\n"
      ],
      "metadata": {
        "id": "nyhjmx-ftkaX"
      },
      "execution_count": null,
      "outputs": []
    },
    {
      "cell_type": "markdown",
      "source": [
        "2. MEMBUAT DATAFRAME"
      ],
      "metadata": {
        "id": "R6syE5utt3WK"
      }
    },
    {
      "cell_type": "code",
      "source": [
        "df_pandas = pd.read_excel('/content/drive/MyDrive/Big Data UAS/Online Retail.xlsx')\n",
        "\n",
        "df_spark = spark.createDataFrame(df_pandas)\n"
      ],
      "metadata": {
        "id": "nVfHVmXNtwlX"
      },
      "execution_count": null,
      "outputs": []
    },
    {
      "cell_type": "code",
      "source": [
        "df_spark.show(5,0)\n",
        "\n"
      ],
      "metadata": {
        "colab": {
          "base_uri": "https://localhost:8080/"
        },
        "id": "UhZgNr2zyVis",
        "outputId": "2ea462eb-d132-49da-dc03-bed058fd5c6a"
      },
      "execution_count": null,
      "outputs": [
        {
          "output_type": "stream",
          "name": "stdout",
          "text": [
            "+---------+---------+-----------------------------------+--------+-------------------+---------+----------+--------------+\n",
            "|InvoiceNo|StockCode|Description                        |Quantity|InvoiceDate        |UnitPrice|CustomerID|Country       |\n",
            "+---------+---------+-----------------------------------+--------+-------------------+---------+----------+--------------+\n",
            "|536365   |85123A   |WHITE HANGING HEART T-LIGHT HOLDER |6       |2010-12-01 08:26:00|2.55     |17850.0   |United Kingdom|\n",
            "|536365   |71053    |WHITE METAL LANTERN                |6       |2010-12-01 08:26:00|3.39     |17850.0   |United Kingdom|\n",
            "|536365   |84406B   |CREAM CUPID HEARTS COAT HANGER     |8       |2010-12-01 08:26:00|2.75     |17850.0   |United Kingdom|\n",
            "|536365   |84029G   |KNITTED UNION FLAG HOT WATER BOTTLE|6       |2010-12-01 08:26:00|3.39     |17850.0   |United Kingdom|\n",
            "|536365   |84029E   |RED WOOLLY HOTTIE WHITE HEART.     |6       |2010-12-01 08:26:00|3.39     |17850.0   |United Kingdom|\n",
            "+---------+---------+-----------------------------------+--------+-------------------+---------+----------+--------------+\n",
            "only showing top 5 rows\n",
            "\n"
          ]
        }
      ]
    },
    {
      "cell_type": "markdown",
      "source": [
        "a. InvoiceNo: Pengidentifikasi unik dari setiap faktur pelanggan.\n",
        "\n",
        "b. StockCode: Pengidentifikasi unik dari setiap item dalam stok.\n",
        "\n",
        "c. Deskripsi: Barang yang dibeli oleh pelanggan.\n",
        "\n",
        "d. Kuantitas: Jumlah setiap item yang dibeli oleh pelanggan dalam satu faktur.\n",
        "\n",
        "e. Tanggal Faktur: Tanggal pembelian.\n",
        "\n",
        "f. UnitPrice: Harga satu unit dari setiap item.\n",
        "\n",
        "g. CustomerID: Pengidentifikasi unik yang ditetapkan untuk setiap pengguna.\n",
        "\n",
        "h. Negara: Negara tempat pembelian dilakukan"
      ],
      "metadata": {
        "id": "7TYPH9RKyp8i"
      }
    },
    {
      "cell_type": "markdown",
      "source": [
        "**3. Exploratory Data Analysis**"
      ],
      "metadata": {
        "id": "hvvAufihy4-0"
      }
    },
    {
      "cell_type": "code",
      "source": [
        "# jumlah row dataframe\n",
        "\n",
        "df_spark.count()"
      ],
      "metadata": {
        "colab": {
          "base_uri": "https://localhost:8080/"
        },
        "id": "SzlHE0pTy3Pu",
        "outputId": "e6d132c8-9344-4238-f624-3b4dc6a22f05"
      },
      "execution_count": null,
      "outputs": [
        {
          "output_type": "execute_result",
          "data": {
            "text/plain": [
              "541909"
            ]
          },
          "metadata": {},
          "execution_count": 7
        }
      ]
    },
    {
      "cell_type": "code",
      "source": [
        "# jumlah pelanggan yang unique\n",
        "\n",
        "df_spark.select('CustomerID').distinct().count()"
      ],
      "metadata": {
        "colab": {
          "base_uri": "https://localhost:8080/"
        },
        "id": "I0qRdk7hzA7e",
        "outputId": "468eef68-5c7b-4e1d-9cba-c15160fbe308"
      },
      "execution_count": null,
      "outputs": [
        {
          "output_type": "execute_result",
          "data": {
            "text/plain": [
              "4373"
            ]
          },
          "metadata": {},
          "execution_count": 8
        }
      ]
    },
    {
      "cell_type": "code",
      "source": [
        "#negara dengan jumlah pembelian terbanyak\n",
        "\n",
        "from pyspark.sql.functions import *\n",
        "from pyspark.sql.types import *\n",
        "\n",
        "df_spark.groupBy('Country').agg(countDistinct('CustomerID').alias('country_count')).orderBy(desc('country_count')).show()"
      ],
      "metadata": {
        "colab": {
          "base_uri": "https://localhost:8080/"
        },
        "id": "-zYjHWxuzKH_",
        "outputId": "dd0c3a84-d053-4756-e487-04556911e1d8"
      },
      "execution_count": null,
      "outputs": [
        {
          "output_type": "stream",
          "name": "stdout",
          "text": [
            "+---------------+-------------+\n",
            "|        Country|country_count|\n",
            "+---------------+-------------+\n",
            "| United Kingdom|         3951|\n",
            "|        Germany|           95|\n",
            "|         France|           88|\n",
            "|          Spain|           31|\n",
            "|        Belgium|           25|\n",
            "|    Switzerland|           22|\n",
            "|       Portugal|           20|\n",
            "|          Italy|           15|\n",
            "|        Finland|           12|\n",
            "|        Austria|           11|\n",
            "|         Norway|           10|\n",
            "|        Denmark|            9|\n",
            "|Channel Islands|            9|\n",
            "|      Australia|            9|\n",
            "|    Netherlands|            9|\n",
            "|         Sweden|            8|\n",
            "|         Cyprus|            8|\n",
            "|          Japan|            8|\n",
            "|         Poland|            6|\n",
            "|    Unspecified|            5|\n",
            "+---------------+-------------+\n",
            "only showing top 20 rows\n",
            "\n"
          ]
        }
      ]
    },
    {
      "cell_type": "code",
      "source": [
        "# data penjualan terakhir\n",
        "\n",
        "spark.sql(\"set spark.sql.legacy.timeParserPolicy=LEGACY\")\n",
        "df_spark = df_spark.withColumn('date',to_timestamp(\"InvoiceDate\", 'yy/MM/dd HH:mm'))\n",
        "df_spark.select(max(\"date\")).show()"
      ],
      "metadata": {
        "colab": {
          "base_uri": "https://localhost:8080/"
        },
        "id": "bEoGoouYzfv9",
        "outputId": "9c800aff-ce69-409b-c4be-d429b8474388"
      },
      "execution_count": null,
      "outputs": [
        {
          "output_type": "stream",
          "name": "stdout",
          "text": [
            "+-------------------+\n",
            "|          max(date)|\n",
            "+-------------------+\n",
            "|2011-12-09 12:50:00|\n",
            "+-------------------+\n",
            "\n"
          ]
        }
      ]
    },
    {
      "cell_type": "code",
      "source": [
        "# data penjualan pertama\n",
        "\n",
        "df_spark.select(min(\"date\")).show()"
      ],
      "metadata": {
        "colab": {
          "base_uri": "https://localhost:8080/"
        },
        "id": "cAMUu0avzzbY",
        "outputId": "75fabf0a-4ce6-4a46-f7b1-2b66388e70b6"
      },
      "execution_count": null,
      "outputs": [
        {
          "output_type": "stream",
          "name": "stdout",
          "text": [
            "+-------------------+\n",
            "|          min(date)|\n",
            "+-------------------+\n",
            "|2010-12-01 08:26:00|\n",
            "+-------------------+\n",
            "\n"
          ]
        }
      ]
    },
    {
      "cell_type": "markdown",
      "source": [
        "**4. Data Pre-processing**"
      ],
      "metadata": {
        "id": "raRPP45Bz8RQ"
      }
    },
    {
      "cell_type": "code",
      "source": [
        "df_spark.show(5,0)"
      ],
      "metadata": {
        "colab": {
          "base_uri": "https://localhost:8080/"
        },
        "id": "mj9C_UE-z43E",
        "outputId": "c7d6ef25-32c3-47c3-9a21-086ffbb93a36"
      },
      "execution_count": null,
      "outputs": [
        {
          "output_type": "stream",
          "name": "stdout",
          "text": [
            "+---------+---------+-----------------------------------+--------+-------------------+---------+----------+--------------+-------------------+\n",
            "|InvoiceNo|StockCode|Description                        |Quantity|InvoiceDate        |UnitPrice|CustomerID|Country       |date               |\n",
            "+---------+---------+-----------------------------------+--------+-------------------+---------+----------+--------------+-------------------+\n",
            "|536365   |85123A   |WHITE HANGING HEART T-LIGHT HOLDER |6       |2010-12-01 08:26:00|2.55     |17850.0   |United Kingdom|2010-12-01 08:26:00|\n",
            "|536365   |71053    |WHITE METAL LANTERN                |6       |2010-12-01 08:26:00|3.39     |17850.0   |United Kingdom|2010-12-01 08:26:00|\n",
            "|536365   |84406B   |CREAM CUPID HEARTS COAT HANGER     |8       |2010-12-01 08:26:00|2.75     |17850.0   |United Kingdom|2010-12-01 08:26:00|\n",
            "|536365   |84029G   |KNITTED UNION FLAG HOT WATER BOTTLE|6       |2010-12-01 08:26:00|3.39     |17850.0   |United Kingdom|2010-12-01 08:26:00|\n",
            "|536365   |84029E   |RED WOOLLY HOTTIE WHITE HEART.     |6       |2010-12-01 08:26:00|3.39     |17850.0   |United Kingdom|2010-12-01 08:26:00|\n",
            "+---------+---------+-----------------------------------+--------+-------------------+---------+----------+--------------+-------------------+\n",
            "only showing top 5 rows\n",
            "\n"
          ]
        }
      ]
    },
    {
      "cell_type": "code",
      "source": [
        "# i) Assign a recency score to each customer\n",
        "\n",
        "df_spark = df_spark.withColumn(\"from_date\", lit(\"12/1/10 08:26\"))\n",
        "df_spark = df_spark.withColumn('from_date', to_timestamp(\"from_date\", 'dd/MM/yy HH:mm'))\n",
        "\n",
        "df2 = df_spark.withColumn('from_date', to_timestamp(col('from_date'))) \\\n",
        "        .withColumn('recency', col(\"date\").cast(\"long\") - col('from_date').cast(\"long\"))\n"
      ],
      "metadata": {
        "id": "9hRvAYZlz0qE"
      },
      "execution_count": null,
      "outputs": []
    },
    {
      "cell_type": "code",
      "source": [
        "# ii) Pilih pembelian terbaru\n",
        "\n",
        "df2 = df2.join(df2.groupBy('CustomerID').agg(max('recency').alias('recency')),on='recency',how='leftsemi')"
      ],
      "metadata": {
        "id": "T4e1b11W0HsI"
      },
      "execution_count": null,
      "outputs": []
    },
    {
      "cell_type": "code",
      "source": [
        "df2.show(5,0)"
      ],
      "metadata": {
        "colab": {
          "base_uri": "https://localhost:8080/"
        },
        "id": "Q39ICsSb0HWI",
        "outputId": "fd829e75-61d1-4ed8-e1ff-c2dcbb06a04f"
      },
      "execution_count": null,
      "outputs": [
        {
          "output_type": "stream",
          "name": "stdout",
          "text": [
            "+--------+---------+---------+----------------------------------+--------+-------------------+---------+----------+--------------+-------------------+-------------------+\n",
            "|recency |InvoiceNo|StockCode|Description                       |Quantity|InvoiceDate        |UnitPrice|CustomerID|Country       |date               |from_date          |\n",
            "+--------+---------+---------+----------------------------------+--------+-------------------+---------+----------+--------------+-------------------+-------------------+\n",
            "|39934500|550619   |85123A   |WHITE HANGING HEART T-LIGHT HOLDER|12      |2011-04-19 13:21:00|2.95     |15717.0   |United Kingdom|2011-04-19 13:21:00|2010-01-12 08:26:00|\n",
            "|39934500|550619   |84970L   |SINGLE HEART ZINC T-LIGHT HOLDER  |12      |2011-04-19 13:21:00|0.95     |15717.0   |United Kingdom|2011-04-19 13:21:00|2010-01-12 08:26:00|\n",
            "|39934500|550619   |84970S   |HANGING HEART ZINC T-LIGHT HOLDER |12      |2011-04-19 13:21:00|0.85     |15717.0   |United Kingdom|2011-04-19 13:21:00|2010-01-12 08:26:00|\n",
            "|39934500|550619   |72351A   |SET/6 TURQUOISE BUTTERFLY T-LIGHTS|12      |2011-04-19 13:21:00|2.1      |15717.0   |United Kingdom|2011-04-19 13:21:00|2010-01-12 08:26:00|\n",
            "|39934500|550619   |85173    |SET/6 FROG PRINCE T-LIGHT CANDLES |12      |2011-04-19 13:21:00|2.55     |15717.0   |United Kingdom|2011-04-19 13:21:00|2010-01-12 08:26:00|\n",
            "+--------+---------+---------+----------------------------------+--------+-------------------+---------+----------+--------------+-------------------+-------------------+\n",
            "only showing top 5 rows\n",
            "\n"
          ]
        }
      ]
    },
    {
      "cell_type": "code",
      "source": [
        "df2.printSchema()"
      ],
      "metadata": {
        "colab": {
          "base_uri": "https://localhost:8080/"
        },
        "id": "z3dXCKtx0bRj",
        "outputId": "7f3c42e5-afe0-43e6-9c78-6dcde6ba9971"
      },
      "execution_count": null,
      "outputs": [
        {
          "output_type": "stream",
          "name": "stdout",
          "text": [
            "root\n",
            " |-- recency: long (nullable = true)\n",
            " |-- InvoiceNo: string (nullable = true)\n",
            " |-- StockCode: string (nullable = true)\n",
            " |-- Description: string (nullable = true)\n",
            " |-- Quantity: long (nullable = true)\n",
            " |-- InvoiceDate: timestamp (nullable = true)\n",
            " |-- UnitPrice: double (nullable = true)\n",
            " |-- CustomerID: double (nullable = true)\n",
            " |-- Country: string (nullable = true)\n",
            " |-- date: timestamp (nullable = true)\n",
            " |-- from_date: timestamp (nullable = true)\n",
            "\n"
          ]
        }
      ]
    },
    {
      "cell_type": "code",
      "source": [
        "# Frequency\n",
        "\n",
        "df_freq = df2.groupBy('CustomerID').agg(count('InvoiceDate').alias('frequency'))\n",
        "df_freq.show(5,0)"
      ],
      "metadata": {
        "colab": {
          "base_uri": "https://localhost:8080/"
        },
        "id": "p5cfp5pd0fri",
        "outputId": "de1e1c16-4de6-483c-91ec-3d20f8c4bc6d"
      },
      "execution_count": null,
      "outputs": [
        {
          "output_type": "stream",
          "name": "stdout",
          "text": [
            "+----------+---------+\n",
            "|CustomerID|frequency|\n",
            "+----------+---------+\n",
            "|12493.0   |11       |\n",
            "|13973.0   |11       |\n",
            "|13533.0   |33       |\n",
            "|18114.0   |28       |\n",
            "|14285.0   |5        |\n",
            "+----------+---------+\n",
            "only showing top 5 rows\n",
            "\n"
          ]
        }
      ]
    },
    {
      "cell_type": "code",
      "source": [
        "df3 = df2.join(df_freq,on='CustomerID',how='inner')\n",
        "df3.printSchema()"
      ],
      "metadata": {
        "colab": {
          "base_uri": "https://localhost:8080/"
        },
        "id": "ajMFvr-50mB-",
        "outputId": "0d7556c9-4d05-4c5d-cf57-8ab2303c9544"
      },
      "execution_count": null,
      "outputs": [
        {
          "output_type": "stream",
          "name": "stdout",
          "text": [
            "root\n",
            " |-- CustomerID: double (nullable = true)\n",
            " |-- recency: long (nullable = true)\n",
            " |-- InvoiceNo: string (nullable = true)\n",
            " |-- StockCode: string (nullable = true)\n",
            " |-- Description: string (nullable = true)\n",
            " |-- Quantity: long (nullable = true)\n",
            " |-- InvoiceDate: timestamp (nullable = true)\n",
            " |-- UnitPrice: double (nullable = true)\n",
            " |-- Country: string (nullable = true)\n",
            " |-- date: timestamp (nullable = true)\n",
            " |-- from_date: timestamp (nullable = true)\n",
            " |-- frequency: long (nullable = false)\n",
            "\n"
          ]
        }
      ]
    },
    {
      "cell_type": "code",
      "source": [
        "df3.show()"
      ],
      "metadata": {
        "colab": {
          "base_uri": "https://localhost:8080/"
        },
        "id": "2W9gWszO1Onv",
        "outputId": "69c1b054-0b62-4181-bca3-a3020d24fcb6"
      },
      "execution_count": null,
      "outputs": [
        {
          "output_type": "stream",
          "name": "stdout",
          "text": [
            "+----------+--------+---------+---------+--------------------+--------+-------------------+---------+--------------+-------------------+-------------------+---------+\n",
            "|CustomerID| recency|InvoiceNo|StockCode|         Description|Quantity|        InvoiceDate|UnitPrice|       Country|               date|          from_date|frequency|\n",
            "+----------+--------+---------+---------+--------------------+--------+-------------------+---------+--------------+-------------------+-------------------+---------+\n",
            "|   12493.0|45885060|   558124|    23084|  RABBIT NIGHT LIGHT|      12|2011-06-27 10:17:00|     2.08|        France|2011-06-27 10:17:00|2010-01-12 08:26:00|       11|\n",
            "|   12493.0|45885060|   558124|    23199|    JUMBO BAG APPLES|      10|2011-06-27 10:17:00|     2.08|        France|2011-06-27 10:17:00|2010-01-12 08:26:00|       11|\n",
            "|   12493.0|45885060|   558124|    22385|JUMBO BAG SPACEBO...|      10|2011-06-27 10:17:00|     2.08|        France|2011-06-27 10:17:00|2010-01-12 08:26:00|       11|\n",
            "|   12493.0|45885060|   558124|    21931|JUMBO STORAGE BAG...|      10|2011-06-27 10:17:00|     2.08|        France|2011-06-27 10:17:00|2010-01-12 08:26:00|       11|\n",
            "|   12493.0|45885060|   558124|    22382|LUNCH BAG SPACEBO...|      10|2011-06-27 10:17:00|     1.65|        France|2011-06-27 10:17:00|2010-01-12 08:26:00|       11|\n",
            "|   12493.0|45885060|   558124|    22383|LUNCH BAG SUKI DE...|      10|2011-06-27 10:17:00|     1.65|        France|2011-06-27 10:17:00|2010-01-12 08:26:00|       11|\n",
            "|   12493.0|45885060|   558124|    23206|LUNCH BAG APPLE D...|      10|2011-06-27 10:17:00|     1.65|        France|2011-06-27 10:17:00|2010-01-12 08:26:00|       11|\n",
            "|   12493.0|45885060|   558124|    23207|LUNCH BAG ALPHABE...|      10|2011-06-27 10:17:00|     1.65|        France|2011-06-27 10:17:00|2010-01-12 08:26:00|       11|\n",
            "|   12493.0|45885060|   558124|    15036|ASSORTED COLOURS ...|      36|2011-06-27 10:17:00|     0.83|        France|2011-06-27 10:17:00|2010-01-12 08:26:00|       11|\n",
            "|   12493.0|45885060|   558124|     POST|             POSTAGE|       1|2011-06-27 10:17:00|     18.0|        France|2011-06-27 10:17:00|2010-01-12 08:26:00|       11|\n",
            "|   13973.0|35362500|   545028|    20932|PINK POT PLANT CA...|       4|2011-02-25 15:21:00|     3.75|United Kingdom|2011-02-25 15:21:00|2010-01-12 08:26:00|       11|\n",
            "|   13973.0|35362500|   545028|    20931|BLUE POT PLANT CA...|       8|2011-02-25 15:21:00|     3.75|United Kingdom|2011-02-25 15:21:00|2010-01-12 08:26:00|       11|\n",
            "|   13973.0|35362500|   545028|    22487|WHITE WOOD GARDEN...|       8|2011-02-25 15:21:00|      8.5|United Kingdom|2011-02-25 15:21:00|2010-01-12 08:26:00|       11|\n",
            "|   13973.0|35362500|   545028|    22961|JAM MAKING SET PR...|      12|2011-02-25 15:21:00|     1.45|United Kingdom|2011-02-25 15:21:00|2010-01-12 08:26:00|       11|\n",
            "|   13973.0|35362500|   545028|    22411|JUMBO SHOPPER VIN...|      20|2011-02-25 15:21:00|     1.95|United Kingdom|2011-02-25 15:21:00|2010-01-12 08:26:00|       11|\n",
            "|   13973.0|35362500|   545028|   85099F|JUMBO BAG STRAWBERRY|      10|2011-02-25 15:21:00|     1.95|United Kingdom|2011-02-25 15:21:00|2010-01-12 08:26:00|       11|\n",
            "|   13973.0|35362500|   545028|    21485|RETROSPOT HEART H...|       3|2011-02-25 15:21:00|     4.95|United Kingdom|2011-02-25 15:21:00|2010-01-12 08:26:00|       11|\n",
            "|   13973.0|35362500|   545028|    22704|    WRAP RED APPLES |      25|2011-02-25 15:21:00|     0.42|United Kingdom|2011-02-25 15:21:00|2010-01-12 08:26:00|       11|\n",
            "|   13973.0|35362500|   545028|    21217|RED RETROSPOT ROU...|       1|2011-02-25 15:21:00|     9.95|United Kingdom|2011-02-25 15:21:00|2010-01-12 08:26:00|       11|\n",
            "|   13973.0|35362500|   545028|    84375|SET OF 20 KIDS CO...|      12|2011-02-25 15:21:00|      2.1|United Kingdom|2011-02-25 15:21:00|2010-01-12 08:26:00|       11|\n",
            "+----------+--------+---------+---------+--------------------+--------+-------------------+---------+--------------+-------------------+-------------------+---------+\n",
            "only showing top 20 rows\n",
            "\n"
          ]
        }
      ]
    },
    {
      "cell_type": "markdown",
      "source": [
        "Monetary Value\n"
      ],
      "metadata": {
        "id": "jGmU-xTS0tse"
      }
    },
    {
      "cell_type": "code",
      "source": [
        "# i) Find the total amount spent in each purchase:\n",
        "\n",
        "m_val = df3.withColumn('TotalAmount',col(\"Quantity\") * col(\"UnitPrice\"))"
      ],
      "metadata": {
        "id": "PYuI6Tpg0uca"
      },
      "execution_count": null,
      "outputs": []
    },
    {
      "cell_type": "code",
      "source": [
        "# ii) Find the total amount spent by each customer:\n",
        "\n",
        "m_val = m_val.groupBy('CustomerID').agg(sum('TotalAmount').alias('monetary_value'))"
      ],
      "metadata": {
        "id": "SxHVfaSx00W7"
      },
      "execution_count": null,
      "outputs": []
    },
    {
      "cell_type": "code",
      "source": [
        "finaldf = m_val.join(df3,on='CustomerID',how='inner')\n",
        "\n",
        "finaldf = finaldf.select(['recency','frequency','monetary_value','CustomerID']).distinct()\n"
      ],
      "metadata": {
        "id": "Q7XnllBO05aF"
      },
      "execution_count": null,
      "outputs": []
    },
    {
      "cell_type": "code",
      "source": [
        "finaldf.show()"
      ],
      "metadata": {
        "colab": {
          "base_uri": "https://localhost:8080/"
        },
        "id": "vupABKrK1Czv",
        "outputId": "845b800e-4f8d-47e0-ca2b-fbf04b406819"
      },
      "execution_count": null,
      "outputs": [
        {
          "output_type": "stream",
          "name": "stdout",
          "text": [
            "+--------+---------+-------------------+----------+\n",
            "| recency|frequency|     monetary_value|CustomerID|\n",
            "+--------+---------+-------------------+----------+\n",
            "|58160520|       93| 378.17999999999995|   16916.0|\n",
            "|56344200|       26| 166.67000000000004|   16208.0|\n",
            "|55061040|       36|             557.74|   14640.0|\n",
            "|53415900|       31|  828.3899999999999|   17311.0|\n",
            "|59453040|       16| 498.44000000000005|   16701.0|\n",
            "|58687140|        1|              510.0|   17500.0|\n",
            "|30958200|      157| 1048.8500000000006|   15464.0|\n",
            "|57483960|       57| 424.57000000000016|   16284.0|\n",
            "|43222920|       63|            1197.54|   14227.0|\n",
            "|54101400|       11|              97.35|   17376.0|\n",
            "|36901380|       22|             343.62|   15047.0|\n",
            "|45545340|        7|             137.45|   17709.0|\n",
            "|41943660|        1|-4.9799999999999995|   13952.0|\n",
            "|42790440|        6| 114.60000000000001|   15724.0|\n",
            "|33377700|       17| 334.40000000000003|   12350.0|\n",
            "|46500780|        9| 289.96000000000004|   17464.0|\n",
            "|58351740|        1|              -4.95|   13895.0|\n",
            "|54278280|       17| 472.31000000000006|   14970.0|\n",
            "|54092280|        9|             257.98|   12822.0|\n",
            "|31459920|       17| 252.42000000000004|   15346.0|\n",
            "+--------+---------+-------------------+----------+\n",
            "only showing top 20 rows\n",
            "\n"
          ]
        }
      ]
    },
    {
      "cell_type": "markdown",
      "source": [
        "Standardization\n"
      ],
      "metadata": {
        "id": "os-ElFmL1XQ3"
      }
    },
    {
      "cell_type": "code",
      "source": [
        "from pyspark.ml.feature import VectorAssembler\n",
        "from pyspark.ml.feature import StandardScaler\n",
        "\n",
        "assemble=VectorAssembler(inputCols=[\n",
        "    'recency','frequency','monetary_value'\n",
        "], outputCol='features')\n",
        "\n",
        "assembled_data=assemble.transform(finaldf)\n",
        "\n",
        "scale=StandardScaler(inputCol='features',outputCol='standardized')\n",
        "data_scale=scale.fit(assembled_data)\n",
        "data_scale_output=data_scale.transform(assembled_data)"
      ],
      "metadata": {
        "id": "_wnXZza-1GHX"
      },
      "execution_count": null,
      "outputs": []
    },
    {
      "cell_type": "code",
      "source": [
        "data_scale_output.select('standardized').show(2,truncate=False)"
      ],
      "metadata": {
        "colab": {
          "base_uri": "https://localhost:8080/"
        },
        "id": "j_pNoLoV1bED",
        "outputId": "fe4de094-6981-434c-f487-d6178bd1116c"
      },
      "execution_count": null,
      "outputs": [
        {
          "output_type": "stream",
          "name": "stdout",
          "text": [
            "+-----------------------------------------------------------+\n",
            "|standardized                                               |\n",
            "+-----------------------------------------------------------+\n",
            "|[6.66024531754086,0.32221215932308994,0.08466292661893093] |\n",
            "|[6.452249639800087,0.09008081873548751,0.03731231154364912]|\n",
            "+-----------------------------------------------------------+\n",
            "only showing top 2 rows\n",
            "\n"
          ]
        }
      ]
    },
    {
      "cell_type": "markdown",
      "source": [
        "5. Membuat Model Machine Learning"
      ],
      "metadata": {
        "id": "mF2btV5z1eKJ"
      }
    },
    {
      "cell_type": "code",
      "source": [
        "#i) Finding the number of clusters to use\n",
        "\n",
        "\n",
        "from pyspark.ml.clustering import KMeans\n",
        "from pyspark.ml.evaluation import ClusteringEvaluator\n",
        "import numpy as np\n",
        "\n",
        "cost = np.zeros(10)\n",
        "\n",
        "evaluator = ClusteringEvaluator(predictionCol='prediction', featuresCol='standardized',metricName='silhouette', distanceMeasure='squaredEuclidean')\n",
        "\n",
        "for i in range(2,10):\n",
        "    KMeans_algo=KMeans(featuresCol='standardized', k=i)\n",
        "    KMeans_fit=KMeans_algo.fit(data_scale_output)\n",
        "    output=KMeans_fit.transform(data_scale_output)\n",
        "    cost[i] = KMeans_fit.summary.trainingCost"
      ],
      "metadata": {
        "id": "ryJlLmzg1jEJ"
      },
      "execution_count": null,
      "outputs": []
    },
    {
      "cell_type": "code",
      "source": [
        "import pylab as pl\n",
        "df_cost = pd.DataFrame(cost[2:])\n",
        "df_cost.columns = [\"cost\"]\n",
        "new_col = range(2,10)\n",
        "df_cost.insert(0, 'cluster', new_col)\n",
        "pl.plot(df_cost.cluster, df_cost.cost)\n",
        "pl.xlabel('Number of Clusters')\n",
        "pl.ylabel('Score')\n",
        "pl.title('Elbow Curve')\n",
        "pl.show()"
      ],
      "metadata": {
        "colab": {
          "base_uri": "https://localhost:8080/",
          "height": 472
        },
        "id": "D1C9mXLA1mto",
        "outputId": "3e07bb5c-1a7f-45ac-c7f1-41133d2be5af"
      },
      "execution_count": null,
      "outputs": [
        {
          "output_type": "display_data",
          "data": {
            "text/plain": [
              "<Figure size 640x480 with 1 Axes>"
            ],
            "image/png": "[encoded data removed]"
          },
          "metadata": {}
        }
      ]
    },
    {
      "cell_type": "code",
      "source": [
        "# membangun Model K-Means Clustering\n",
        "\n",
        "KMeans_algo=KMeans(featuresCol='standardized', k=3)\n",
        "KMeans_fit=KMeans_algo.fit(data_scale_output)"
      ],
      "metadata": {
        "id": "xIrhinKm10ea"
      },
      "execution_count": null,
      "outputs": []
    },
    {
      "cell_type": "code",
      "source": [
        "# Membuat prediksi\n",
        "\n",
        "preds=KMeans_fit.transform(data_scale_output)\n",
        "\n",
        "preds.show(5,0)"
      ],
      "metadata": {
        "colab": {
          "base_uri": "https://localhost:8080/"
        },
        "id": "7R9qsYj11631",
        "outputId": "09e2c65e-b4be-4090-c674-f90200b34c26"
      },
      "execution_count": null,
      "outputs": [
        {
          "output_type": "stream",
          "name": "stdout",
          "text": [
            "+--------+---------+------------------+----------+------------------------------------+------------------------------------------------------------+----------+\n",
            "|recency |frequency|monetary_value    |CustomerID|features                            |standardized                                                |prediction|\n",
            "+--------+---------+------------------+----------+------------------------------------+------------------------------------------------------------+----------+\n",
            "|45885060|11       |184.29000000000002|12493.0   |[4.588506E7,11.0,184.29000000000002]|[5.254522415034828,0.0381111156188601,0.041256890228470004] |0         |\n",
            "|43564740|11       |184.29000000000002|12493.0   |[4.356474E7,11.0,184.29000000000002]|[4.988811234749707,0.0381111156188601,0.041256890228470004] |0         |\n",
            "|35362500|11       |264.7             |13973.0   |[3.53625E7,11.0,264.7]              |[4.049532656199406,0.0381111156188601,0.059258228029062936] |0         |\n",
            "|44422080|33       |124.14999999999999|13533.0   |[4.442208E7,33.0,124.14999999999999]|[5.086989427113538,0.11433334685658031,0.027793385001164198]|0         |\n",
            "|35096040|28       |220.1             |18114.0   |[3.509604E7,28.0,220.1]             |[4.019019019675662,0.09701011248437118,0.04927365315147998] |0         |\n",
            "+--------+---------+------------------+----------+------------------------------------+------------------------------------------------------------+----------+\n",
            "only showing top 5 rows\n",
            "\n"
          ]
        }
      ]
    },
    {
      "cell_type": "markdown",
      "source": [
        "6. Analisa Cluster"
      ],
      "metadata": {
        "id": "m6oDtIFn2AB7"
      }
    },
    {
      "cell_type": "code",
      "source": [
        "import matplotlib.pyplot as plt\n",
        "import seaborn as sns\n",
        "\n",
        "df_viz = preds.select('recency','frequency','monetary_value','prediction')\n",
        "df_viz = df_viz.toPandas()\n",
        "avg_df = df_viz.groupby(['prediction'], as_index=False).mean()\n",
        "\n",
        "list1 = ['recency','frequency','monetary_value']\n",
        "\n",
        "for i in list1:\n",
        "    sns.barplot(x='prediction',y=str(i),data=avg_df)\n",
        "    plt.show()"
      ],
      "metadata": {
        "colab": {
          "base_uri": "https://localhost:8080/",
          "height": 1000
        },
        "id": "Q6aWAtZB2B36",
        "outputId": "59e0beba-9ebb-4d16-d2c8-2498834b1ad3"
      },
      "execution_count": null,
      "outputs": [
        {
          "output_type": "display_data",
          "data": {
            "text/plain": [
              "<Figure size 640x480 with 1 Axes>"
            ],
            "image/png": "[encoded data removed]"
          },
          "metadata": {}
        },
        {
          "output_type": "display_data",
          "data": {
            "text/plain": [
              "<Figure size 640x480 with 1 Axes>"
            ],
            "image/png": "[encoded data removed]"
          },
          "metadata": {}
        },
        {
          "output_type": "display_data",
          "data": {
            "text/plain": [
              "<Figure size 640x480 with 1 Axes>"
            ],
            "image/png": "[encoded data removed]"
          },
          "metadata": {}
        }
      ]
    }
  ]
}